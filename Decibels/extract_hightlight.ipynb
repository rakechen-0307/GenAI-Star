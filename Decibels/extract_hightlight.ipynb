{
  "cells": [
    {
      "cell_type": "code",
      "execution_count": 88,
      "metadata": {
        "colab": {
          "base_uri": "https://localhost:8080/"
        },
        "id": "9pho90EymthX",
        "outputId": "41adcf12-7e28-4c46-cbf0-115b426a8e13"
      },
      "outputs": [],
      "source": [
        "# %pip install moviepy pydub numpy scipy matplotlib"
      ]
    },
    {
      "cell_type": "code",
      "execution_count": 89,
      "metadata": {},
      "outputs": [],
      "source": [
        "EXECUTION_MODE = 'LOCAL'  # LOCAL or COLAB"
      ]
    },
    {
      "cell_type": "code",
      "execution_count": 90,
      "metadata": {
        "colab": {
          "base_uri": "https://localhost:8080/",
          "height": 60
        },
        "id": "As75JNXTnx_o",
        "outputId": "187412e5-00a6-4e0e-8b40-9b060ca00879"
      },
      "outputs": [],
      "source": [
        "if EXECUTION_MODE == 'COLAB':\n",
        "    from google.colab import files\n",
        "    uploaded = files.upload()\n",
        "    filename = next(iter(uploaded))\n",
        "    print(filename)\n",
        "else:\n",
        "    filename = '../VideoAnalysis/videos/table_tennis_full.mp4' # Change this to the video file you want to process"
      ]
    },
    {
      "cell_type": "code",
      "execution_count": 91,
      "metadata": {},
      "outputs": [
        {
          "name": "stdout",
          "output_type": "stream",
          "text": [
            "videos/extracted-highlights.mp4\n"
          ]
        }
      ],
      "source": [
        "print(filename)"
      ]
    },
    {
      "cell_type": "code",
      "execution_count": 92,
      "metadata": {
        "id": "0h_faWk7qKJO"
      },
      "outputs": [
        {
          "name": "stdout",
          "output_type": "stream",
          "text": [
            "MoviePy - Writing audio in videos/extracted-highlights.mp4_audio.wav\n"
          ]
        },
        {
          "name": "stderr",
          "output_type": "stream",
          "text": [
            "                                                                          "
          ]
        },
        {
          "name": "stdout",
          "output_type": "stream",
          "text": [
            "MoviePy - Done.\n"
          ]
        },
        {
          "name": "stderr",
          "output_type": "stream",
          "text": [
            "\r"
          ]
        }
      ],
      "source": [
        "import moviepy.editor as mp\n",
        "from pydub import AudioSegment\n",
        "import numpy as np\n",
        "\n",
        "# Step 1: Extract audio from video\n",
        "video = mp.VideoFileClip(filename)\n",
        "audio = video.audio\n",
        "audio.write_audiofile(f\"{filename}_audio.wav\")"
      ]
    },
    {
      "cell_type": "code",
      "execution_count": 93,
      "metadata": {
        "id": "T0dKZM2zqNr0"
      },
      "outputs": [],
      "source": [
        "# Step 2: Load audio and analyze decibel levels\n",
        "audio_name = f\"{filename}_audio.wav\"\n",
        "audio_segment = AudioSegment.from_file(audio_name)"
      ]
    },
    {
      "cell_type": "code",
      "execution_count": 100,
      "metadata": {
        "id": "g_SRkg0eniPI"
      },
      "outputs": [
        {
          "name": "stdout",
          "output_type": "stream",
          "text": [
            "total seconds: 6210.0038\n",
            "hightlight seconds: 60\n",
            "hightlight frames: 1798\n",
            "total frames: 186114\n"
          ]
        }
      ],
      "source": [
        "# Function to calculate RMS value\n",
        "def calculate_rms(frame):\n",
        "    samples = np.array(frame.get_array_of_samples(), dtype=np.int32)\n",
        "    return np.sqrt(np.mean(samples**2))\n",
        "\n",
        "# Function to convert RMS to decibel\n",
        "def rms_to_db(rms):\n",
        "    if rms == 0:\n",
        "      return 0\n",
        "    return 20 * np.log10(rms)\n",
        "\n",
        "# Calculate decibel levels for each frame\n",
        "def calculate_videoDB(audio_segment, frame_count, segment_duration) -> np.ndarray:\n",
        "    decibel_levels = []\n",
        "    for i in range(frame_count):\n",
        "        frame = audio_segment[i * segment_duration:(i + 1) * segment_duration]\n",
        "        rms = calculate_rms(frame)\n",
        "        db = rms_to_db(rms)\n",
        "        decibel_levels.append(db)\n",
        "    return np.array(decibel_levels)\n",
        "\n",
        "frame_rate = video.fps\n",
        "segment_duration = (1000 / frame_rate)\n",
        "frame_count = int(len(audio_segment) / segment_duration)\n",
        "total_second = frame_count / frame_rate\n",
        "hightlight_cuts = 50\n",
        "hightlight_sec = 60\n",
        "hightlight_frames = int(hightlight_sec * frame_rate)\n",
        "left_ratio = 0.6\n",
        "right_ratio = 0.4\n",
        "print(f\"total seconds: {total_second}\")\n",
        "print(f\"hightlight seconds: {hightlight_sec}\")\n",
        "print(f\"hightlight frames: {hightlight_frames}\")\n",
        "print(f\"total frames: {frame_count}\")"
      ]
    },
    {
      "cell_type": "code",
      "execution_count": 101,
      "metadata": {
        "id": "sSc5gb9RqY5P"
      },
      "outputs": [],
      "source": [
        "decibel_levels = calculate_videoDB(audio_segment, frame_count, segment_duration)"
      ]
    },
    {
      "cell_type": "code",
      "execution_count": 102,
      "metadata": {
        "id": "Ru8GX1h56_oY"
      },
      "outputs": [
        {
          "data": {
            "text/plain": [
              "[<matplotlib.lines.Line2D at 0x7fbcf70aec80>]"
            ]
          },
          "execution_count": 102,
          "metadata": {},
          "output_type": "execute_result"
        },
        {
          "data": {
            "image/png": "[encoded data removed]",
            "text/plain": [
              "<Figure size 640x480 with 1 Axes>"
            ]
          },
          "metadata": {},
          "output_type": "display_data"
        }
      ],
      "source": [
        "import matplotlib.pyplot as plt\n",
        "\n",
        "xaxis = np.linspace(0, total_second / 60, frame_count)\n",
        "plt.plot(xaxis, decibel_levels)"
      ]
    },
    {
      "cell_type": "code",
      "execution_count": 103,
      "metadata": {},
      "outputs": [
        {
          "name": "stdout",
          "output_type": "stream",
          "text": [
            "middle\n",
            "middle\n",
            "middle\n",
            "middle\n",
            "middle\n",
            "middle\n",
            "middle\n",
            "middle\n",
            "middle\n",
            "right side\n",
            "middle\n",
            "middle\n",
            "middle\n",
            "left side\n",
            "middle\n",
            "middle\n",
            "middle\n",
            "middle\n",
            "middle\n",
            "middle\n",
            "middle\n",
            "middle\n",
            "middle\n",
            "middle\n",
            "middle\n",
            "middle\n",
            "middle\n",
            "middle\n",
            "middle\n",
            "middle\n",
            "middle\n",
            "middle\n",
            "middle\n",
            "middle\n",
            "middle\n",
            "middle\n",
            "middle\n",
            "middle\n",
            "middle\n",
            "middle\n",
            "middle\n",
            "middle\n",
            "middle\n",
            "middle\n",
            "middle\n",
            "middle\n",
            "middle\n",
            "middle\n",
            "middle\n",
            "middle\n",
            "[(0, 59), (119, 179), (223, 375), (406, 466), (557, 617), (647, 707), (755, 815), (817, 877), (927, 1086), (1093, 1153), (1217, 1509), (1655, 1814), (1819, 1879), (2108, 2168), (2359, 2419), (2506, 2624), (2639, 2699), (2894, 2980), (3073, 3133), (3190, 3250), (3285, 3395), (3539, 3599), (3609, 3669), (4010, 4070), (4106, 4166), (4214, 4274), (4351, 4411), (4485, 4545), (4647, 4707), (4733, 4792), (4885, 4945), (5142, 5202), (5617, 5677), (5722, 5782), (5947, 6007), (6150, 6209)]\n"
          ]
        }
      ],
      "source": [
        "hightlights = []\n",
        "def checkInHighlights(idx, hightlights: list):\n",
        "    if len(hightlights) == 0:\n",
        "        return False\n",
        "    for start, end in hightlights:\n",
        "        if start <= idx <= end:\n",
        "            return True\n",
        "    return False\n",
        "\n",
        "def addHightlight(hightlight, hightlights: list):\n",
        "    hightlights.append(hightlight)\n",
        "\n",
        "def merge_hightlights(hightlights: list):\n",
        "    idx = 0\n",
        "    threshold = 1\n",
        "    while idx < len(hightlights) - 1:\n",
        "        start1, end1 = hightlights[idx]\n",
        "        start2, end2 = hightlights[idx + 1]\n",
        "        if start2 - end1 < threshold:\n",
        "            hightlights[idx] = (start1, end2)\n",
        "            hightlights.pop(idx + 1)\n",
        "        else:\n",
        "            idx += 1\n",
        "            \n",
        "ORDER = \"descending\"\n",
        "if ORDER == \"descending\":\n",
        "    # descending\n",
        "    argsort_db = np.argsort(decibel_levels)[::-1]\n",
        "else:\n",
        "    # ascending\n",
        "    argsort_db = np.argsort(decibel_levels)\n",
        "idx = 0\n",
        "while len(hightlights) < hightlight_cuts:\n",
        "    in_highlights = checkInHighlights(argsort_db[idx], hightlights)\n",
        "    if in_highlights:\n",
        "        idx += 1\n",
        "        continue\n",
        "    hightlight = None\n",
        "    # print(argsort_db[idx])\n",
        "    if argsort_db[idx] < hightlight_frames*left_ratio:\n",
        "        print(\"left side\")\n",
        "        hightlight = (0, hightlight_frames-1)\n",
        "    elif argsort_db[idx] > frame_count - hightlight_frames*right_ratio:\n",
        "        print(\"right side\")\n",
        "        hightlight = (frame_count - hightlight_frames, frame_count-1)\n",
        "    else:\n",
        "        print(\"middle\")\n",
        "        hightlight = (argsort_db[idx] - hightlight_frames*left_ratio, argsort_db[idx] + (hightlight_frames*right_ratio) - 1)\n",
        "    # print(hightlight)\n",
        "    hightlight = (int(hightlight[0]), int(hightlight[1]))\n",
        "    addHightlight(hightlight, hightlights)\n",
        "    idx += 1    \n",
        "# divide the frame number by frame_rate to get the time in seconds\n",
        "hightlights_in_seconds = [(int(start / frame_rate), int(end / frame_rate)) for start, end in hightlights]\n",
        "hightlights_in_seconds = sorted(hightlights_in_seconds, key=lambda x: x[0])\n",
        "# merge the hightlights if they are too close\n",
        "merge_hightlights(hightlights_in_seconds)\n",
        "print(hightlights_in_seconds)"
      ]
    },
    {
      "cell_type": "code",
      "execution_count": 104,
      "metadata": {},
      "outputs": [
        {
          "name": "stdout",
          "output_type": "stream",
          "text": [
            "Moviepy - Building video videos/extracted-highlights.mp4_highlight.mp4.\n",
            "MoviePy - Writing audio in extracted-highlights.mp4_highlightTEMP_MPY_wvf_snd.mp3\n"
          ]
        },
        {
          "name": "stderr",
          "output_type": "stream",
          "text": [
            "                                                                        \r"
          ]
        },
        {
          "name": "stdout",
          "output_type": "stream",
          "text": [
            "MoviePy - Done.\n",
            "Moviepy - Writing video videos/extracted-highlights.mp4_highlight.mp4\n",
            "\n"
          ]
        },
        {
          "name": "stderr",
          "output_type": "stream",
          "text": [
            "                                                                   \r"
          ]
        },
        {
          "name": "stdout",
          "output_type": "stream",
          "text": [
            "Moviepy - Done !\n",
            "Moviepy - video ready videos/extracted-highlights.mp4_highlight.mp4\n"
          ]
        }
      ],
      "source": [
        "# extract the hightlights from the video\n",
        "highlight_clips = []\n",
        "for start, end in hightlights_in_seconds:\n",
        "    highlight_clips.append(video.subclip(start, end))\n",
        "\n",
        "# concatenate the hightlights\n",
        "highlight_video = mp.concatenate_videoclips(highlight_clips)\n",
        "highlight_video.write_videofile(f\"{filename}_highlight.mp4\", codec=\"libx264\")"
      ]
    },
    {
      "cell_type": "code",
      "execution_count": 105,
      "metadata": {},
      "outputs": [
        {
          "data": {
            "text/plain": [
              "0"
            ]
          },
          "execution_count": 105,
          "metadata": {},
          "output_type": "execute_result"
        }
      ],
      "source": [
        "import os\n",
        "os.system(f\"rm -f {filename}_audio.wav\")"
      ]
    }
  ],
  "metadata": {
    "colab": {
      "provenance": []
    },
    "kernelspec": {
      "display_name": "Python 3",
      "name": "python3"
    },
    "language_info": {
      "codemirror_mode": {
        "name": "ipython",
        "version": 3
      },
      "file_extension": ".py",
      "mimetype": "text/x-python",
      "name": "python",
      "nbconvert_exporter": "python",
      "pygments_lexer": "ipython3",
      "version": "3.10.14"
    }
  },
  "nbformat": 4,
  "nbformat_minor": 0
}
